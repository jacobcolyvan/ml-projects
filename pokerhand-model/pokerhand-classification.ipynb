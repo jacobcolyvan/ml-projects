{
 "cells": [
  {
   "cell_type": "markdown",
   "metadata": {},
   "source": [
    "# Poker hand classification\n",
    "This notebook looks to build a machine learning model that can accuractely classify a poker hand given 5 cards. Basically a model for poker hand rule induction.\n",
    "\n",
    "Although this is absolutely something that is better suited to a standard logic based classification ruleset, e.g. if two of the same number then its a pair, I am interested to see how the model performs. \n",
    "\n",
    "The data comes from the Kaggle `Poker Hand Classification` dataset, found at https://www.kaggle.com/dysphoria/poker-hand-classification?select=poker-hand-training.data\n",
    "\n",
    "<br/>\n",
    "\n",
    "#### Features\n",
    "10 Attributes describing cards. \\\n",
    "1 label describing poker hand value (this is what we want to predict). \\\n",
    "\n",
    "The 5 cards of the hand are set out in the following attribute format:\n",
    "* Suit of card #n, where 1-4 indicates {Hearts, Spades, Diamond, Clubs}\n",
    "* Number of card #n, where 1-13 indicates {Ace, 2, 3, ..., Queen, King}\n",
    "\n",
    "<br/>\n",
    " \n",
    "The poker hand value refers to the following list: \n",
    "* 0: nothing in hand; not a recognized poker hand\n",
    "* 1: one pair; one pair of equal ranks within five cards\n",
    "* 2: two pairs; two pairs of equal ranks within five cards\n",
    "* 3: three of a kind; three equal ranks within five cards\n",
    "* 4: straight; five cards, sequentially ranked with no gaps\n",
    "* 5: flush; five cards with the same suit\n",
    "* 6: full house; pair + different rank three of a kind\n",
    "* 7: four of a kind; four equal ranks within five cards\n",
    "* 8: straight flush; straight + flush\n",
    "* 9: royal flush; {Ace, King, Queen, Jack, Ten} + flush \n"
   ]
  },
  {
   "cell_type": "code",
   "execution_count": 5,
   "metadata": {},
   "outputs": [],
   "source": [
    "# Import all the tools we need\n",
    "import numpy as np\n",
    "import pandas as pd\n",
    "import matplotlib.pyplot as plt\n",
    "%matplotlib inline\n",
    "import seaborn as sns\n",
    "\n",
    "# For better displayinfing of our data structures\n",
    "import json\n",
    "\n",
    "# Models from SCikit-Learn\n",
    "from sklearn.linear_model import LogisticRegression\n",
    "from sklearn.neighbors import KNeighborsClassifier\n",
    "from sklearn.ensemble import RandomForestClassifier\n",
    "\n",
    "# Model Evaluations\n",
    "from sklearn.model_selection import train_test_split, cross_val_score\n",
    "from sklearn.model_selection import RandomizedSearchCV, GridSearchCV\n",
    "from sklearn.metrics import confusion_matrix, classification_report\n",
    "from sklearn.metrics import precision_score, recall_score, f1_score\n",
    "from sklearn.metrics import plot_roc_curve"
   ]
  },
  {
   "cell_type": "code",
   "execution_count": 7,
   "metadata": {},
   "outputs": [
    {
     "data": {
      "text/html": [
       "<div>\n",
       "<style scoped>\n",
       "    .dataframe tbody tr th:only-of-type {\n",
       "        vertical-align: middle;\n",
       "    }\n",
       "\n",
       "    .dataframe tbody tr th {\n",
       "        vertical-align: top;\n",
       "    }\n",
       "\n",
       "    .dataframe thead th {\n",
       "        text-align: right;\n",
       "    }\n",
       "</style>\n",
       "<table border=\"1\" class=\"dataframe\">\n",
       "  <thead>\n",
       "    <tr style=\"text-align: right;\">\n",
       "      <th></th>\n",
       "      <th>S1</th>\n",
       "      <th>C1</th>\n",
       "      <th>S2</th>\n",
       "      <th>C2</th>\n",
       "      <th>S3</th>\n",
       "      <th>C3</th>\n",
       "      <th>S4</th>\n",
       "      <th>C4</th>\n",
       "      <th>S5</th>\n",
       "      <th>C5</th>\n",
       "      <th>Hand</th>\n",
       "    </tr>\n",
       "  </thead>\n",
       "  <tbody>\n",
       "    <tr>\n",
       "      <th>0</th>\n",
       "      <td>2</td>\n",
       "      <td>11</td>\n",
       "      <td>2</td>\n",
       "      <td>13</td>\n",
       "      <td>2</td>\n",
       "      <td>10</td>\n",
       "      <td>2</td>\n",
       "      <td>12</td>\n",
       "      <td>2</td>\n",
       "      <td>1</td>\n",
       "      <td>9</td>\n",
       "    </tr>\n",
       "    <tr>\n",
       "      <th>1</th>\n",
       "      <td>3</td>\n",
       "      <td>12</td>\n",
       "      <td>3</td>\n",
       "      <td>11</td>\n",
       "      <td>3</td>\n",
       "      <td>13</td>\n",
       "      <td>3</td>\n",
       "      <td>10</td>\n",
       "      <td>3</td>\n",
       "      <td>1</td>\n",
       "      <td>9</td>\n",
       "    </tr>\n",
       "    <tr>\n",
       "      <th>2</th>\n",
       "      <td>4</td>\n",
       "      <td>10</td>\n",
       "      <td>4</td>\n",
       "      <td>11</td>\n",
       "      <td>4</td>\n",
       "      <td>1</td>\n",
       "      <td>4</td>\n",
       "      <td>13</td>\n",
       "      <td>4</td>\n",
       "      <td>12</td>\n",
       "      <td>9</td>\n",
       "    </tr>\n",
       "    <tr>\n",
       "      <th>3</th>\n",
       "      <td>4</td>\n",
       "      <td>1</td>\n",
       "      <td>4</td>\n",
       "      <td>13</td>\n",
       "      <td>4</td>\n",
       "      <td>12</td>\n",
       "      <td>4</td>\n",
       "      <td>11</td>\n",
       "      <td>4</td>\n",
       "      <td>10</td>\n",
       "      <td>9</td>\n",
       "    </tr>\n",
       "    <tr>\n",
       "      <th>4</th>\n",
       "      <td>1</td>\n",
       "      <td>2</td>\n",
       "      <td>1</td>\n",
       "      <td>4</td>\n",
       "      <td>1</td>\n",
       "      <td>5</td>\n",
       "      <td>1</td>\n",
       "      <td>3</td>\n",
       "      <td>1</td>\n",
       "      <td>6</td>\n",
       "      <td>8</td>\n",
       "    </tr>\n",
       "  </tbody>\n",
       "</table>\n",
       "</div>"
      ],
      "text/plain": [
       "   S1  C1  S2  C2  S3  C3  S4  C4  S5  C5  Hand\n",
       "0   2  11   2  13   2  10   2  12   2   1     9\n",
       "1   3  12   3  11   3  13   3  10   3   1     9\n",
       "2   4  10   4  11   4   1   4  13   4  12     9\n",
       "3   4   1   4  13   4  12   4  11   4  10     9\n",
       "4   1   2   1   4   1   5   1   3   1   6     8"
      ]
     },
     "execution_count": 7,
     "metadata": {},
     "output_type": "execute_result"
    }
   ],
   "source": [
    "# load data\n",
    "df = pd.read_csv('./data/poker-hand-training.csv')\n",
    "# where S1 = the suit of card1, and C1 = the card value of card1\n",
    "df.columns = [\"S1\", \"C1\", \"S2\", \"C2\", \"S3\", \"C3\", \"S4\", \"C4\", \"S5\", \"C5\", \"Hand\"]\n",
    "df.head()"
   ]
  },
  {
   "cell_type": "markdown",
   "metadata": {},
   "source": [
    "## Data Exploration"
   ]
  },
  {
   "cell_type": "code",
   "execution_count": 4,
   "metadata": {},
   "outputs": [
    {
     "name": "stdout",
     "output_type": "stream",
     "text": [
      "(25009, 11)\n",
      "<class 'pandas.core.frame.DataFrame'>\n",
      "RangeIndex: 25009 entries, 0 to 25008\n",
      "Data columns (total 11 columns):\n",
      " #   Column  Non-Null Count  Dtype\n",
      "---  ------  --------------  -----\n",
      " 0   S1      25009 non-null  int64\n",
      " 1   C1      25009 non-null  int64\n",
      " 2   S2      25009 non-null  int64\n",
      " 3   C2      25009 non-null  int64\n",
      " 4   S3      25009 non-null  int64\n",
      " 5   C3      25009 non-null  int64\n",
      " 6   S4      25009 non-null  int64\n",
      " 7   C4      25009 non-null  int64\n",
      " 8   S5      25009 non-null  int64\n",
      " 9   C5      25009 non-null  int64\n",
      " 10  Hand    25009 non-null  int64\n",
      "dtypes: int64(11)\n",
      "memory usage: 2.1 MB\n",
      "None\n"
     ]
    },
    {
     "data": {
      "text/plain": [
       "S1      0\n",
       "C1      0\n",
       "S2      0\n",
       "C2      0\n",
       "S3      0\n",
       "C3      0\n",
       "S4      0\n",
       "C4      0\n",
       "S5      0\n",
       "C5      0\n",
       "Hand    0\n",
       "dtype: int64"
      ]
     },
     "execution_count": 4,
     "metadata": {},
     "output_type": "execute_result"
    }
   ],
   "source": [
    "# investigate basic data structure\n",
    "print(df.shape)\n",
    "print(df.info());\n",
    "# Check if there are missing values\n",
    "df.isna().sum()  # There are no missing values"
   ]
  },
  {
   "cell_type": "code",
   "execution_count": 24,
   "metadata": {},
   "outputs": [
    {
     "data": {
      "text/html": [
       "<div>\n",
       "<style scoped>\n",
       "    .dataframe tbody tr th:only-of-type {\n",
       "        vertical-align: middle;\n",
       "    }\n",
       "\n",
       "    .dataframe tbody tr th {\n",
       "        vertical-align: top;\n",
       "    }\n",
       "\n",
       "    .dataframe thead th {\n",
       "        text-align: right;\n",
       "    }\n",
       "</style>\n",
       "<table border=\"1\" class=\"dataframe\">\n",
       "  <thead>\n",
       "    <tr style=\"text-align: right;\">\n",
       "      <th></th>\n",
       "      <th>S1</th>\n",
       "      <th>C1</th>\n",
       "      <th>S2</th>\n",
       "      <th>C2</th>\n",
       "      <th>S3</th>\n",
       "      <th>C3</th>\n",
       "      <th>S4</th>\n",
       "      <th>C4</th>\n",
       "      <th>S5</th>\n",
       "      <th>C5</th>\n",
       "      <th>Hand</th>\n",
       "    </tr>\n",
       "  </thead>\n",
       "  <tbody>\n",
       "    <tr>\n",
       "      <th>count</th>\n",
       "      <td>25009.000000</td>\n",
       "      <td>25009.000000</td>\n",
       "      <td>25009.000000</td>\n",
       "      <td>25009.000000</td>\n",
       "      <td>25009.000000</td>\n",
       "      <td>25009.000000</td>\n",
       "      <td>25009.000000</td>\n",
       "      <td>25009.000000</td>\n",
       "      <td>25009.000000</td>\n",
       "      <td>25009.000000</td>\n",
       "      <td>25009.000000</td>\n",
       "    </tr>\n",
       "    <tr>\n",
       "      <th>mean</th>\n",
       "      <td>2.508817</td>\n",
       "      <td>6.995122</td>\n",
       "      <td>2.497781</td>\n",
       "      <td>7.014035</td>\n",
       "      <td>2.510296</td>\n",
       "      <td>7.013915</td>\n",
       "      <td>2.495981</td>\n",
       "      <td>6.942261</td>\n",
       "      <td>2.497381</td>\n",
       "      <td>6.962973</td>\n",
       "      <td>0.620817</td>\n",
       "    </tr>\n",
       "    <tr>\n",
       "      <th>std</th>\n",
       "      <td>1.116465</td>\n",
       "      <td>3.749832</td>\n",
       "      <td>1.121750</td>\n",
       "      <td>3.766965</td>\n",
       "      <td>1.123130</td>\n",
       "      <td>3.744858</td>\n",
       "      <td>1.115991</td>\n",
       "      <td>3.747086</td>\n",
       "      <td>1.118715</td>\n",
       "      <td>3.741463</td>\n",
       "      <td>0.786594</td>\n",
       "    </tr>\n",
       "    <tr>\n",
       "      <th>min</th>\n",
       "      <td>1.000000</td>\n",
       "      <td>1.000000</td>\n",
       "      <td>1.000000</td>\n",
       "      <td>1.000000</td>\n",
       "      <td>1.000000</td>\n",
       "      <td>1.000000</td>\n",
       "      <td>1.000000</td>\n",
       "      <td>1.000000</td>\n",
       "      <td>1.000000</td>\n",
       "      <td>1.000000</td>\n",
       "      <td>0.000000</td>\n",
       "    </tr>\n",
       "    <tr>\n",
       "      <th>25%</th>\n",
       "      <td>2.000000</td>\n",
       "      <td>4.000000</td>\n",
       "      <td>1.000000</td>\n",
       "      <td>4.000000</td>\n",
       "      <td>2.000000</td>\n",
       "      <td>4.000000</td>\n",
       "      <td>1.000000</td>\n",
       "      <td>4.000000</td>\n",
       "      <td>1.000000</td>\n",
       "      <td>4.000000</td>\n",
       "      <td>0.000000</td>\n",
       "    </tr>\n",
       "    <tr>\n",
       "      <th>50%</th>\n",
       "      <td>3.000000</td>\n",
       "      <td>7.000000</td>\n",
       "      <td>2.000000</td>\n",
       "      <td>7.000000</td>\n",
       "      <td>3.000000</td>\n",
       "      <td>7.000000</td>\n",
       "      <td>2.000000</td>\n",
       "      <td>7.000000</td>\n",
       "      <td>3.000000</td>\n",
       "      <td>7.000000</td>\n",
       "      <td>1.000000</td>\n",
       "    </tr>\n",
       "    <tr>\n",
       "      <th>75%</th>\n",
       "      <td>4.000000</td>\n",
       "      <td>10.000000</td>\n",
       "      <td>4.000000</td>\n",
       "      <td>10.000000</td>\n",
       "      <td>4.000000</td>\n",
       "      <td>10.000000</td>\n",
       "      <td>3.000000</td>\n",
       "      <td>10.000000</td>\n",
       "      <td>3.000000</td>\n",
       "      <td>10.000000</td>\n",
       "      <td>1.000000</td>\n",
       "    </tr>\n",
       "    <tr>\n",
       "      <th>max</th>\n",
       "      <td>4.000000</td>\n",
       "      <td>13.000000</td>\n",
       "      <td>4.000000</td>\n",
       "      <td>13.000000</td>\n",
       "      <td>4.000000</td>\n",
       "      <td>13.000000</td>\n",
       "      <td>4.000000</td>\n",
       "      <td>13.000000</td>\n",
       "      <td>4.000000</td>\n",
       "      <td>13.000000</td>\n",
       "      <td>9.000000</td>\n",
       "    </tr>\n",
       "  </tbody>\n",
       "</table>\n",
       "</div>"
      ],
      "text/plain": [
       "                 S1            C1            S2            C2            S3  \\\n",
       "count  25009.000000  25009.000000  25009.000000  25009.000000  25009.000000   \n",
       "mean       2.508817      6.995122      2.497781      7.014035      2.510296   \n",
       "std        1.116465      3.749832      1.121750      3.766965      1.123130   \n",
       "min        1.000000      1.000000      1.000000      1.000000      1.000000   \n",
       "25%        2.000000      4.000000      1.000000      4.000000      2.000000   \n",
       "50%        3.000000      7.000000      2.000000      7.000000      3.000000   \n",
       "75%        4.000000     10.000000      4.000000     10.000000      4.000000   \n",
       "max        4.000000     13.000000      4.000000     13.000000      4.000000   \n",
       "\n",
       "                 C3            S4            C4            S5            C5  \\\n",
       "count  25009.000000  25009.000000  25009.000000  25009.000000  25009.000000   \n",
       "mean       7.013915      2.495981      6.942261      2.497381      6.962973   \n",
       "std        3.744858      1.115991      3.747086      1.118715      3.741463   \n",
       "min        1.000000      1.000000      1.000000      1.000000      1.000000   \n",
       "25%        4.000000      1.000000      4.000000      1.000000      4.000000   \n",
       "50%        7.000000      2.000000      7.000000      3.000000      7.000000   \n",
       "75%       10.000000      3.000000     10.000000      3.000000     10.000000   \n",
       "max       13.000000      4.000000     13.000000      4.000000     13.000000   \n",
       "\n",
       "               Hand  \n",
       "count  25009.000000  \n",
       "mean       0.620817  \n",
       "std        0.786594  \n",
       "min        0.000000  \n",
       "25%        0.000000  \n",
       "50%        1.000000  \n",
       "75%        1.000000  \n",
       "max        9.000000  "
      ]
     },
     "execution_count": 24,
     "metadata": {},
     "output_type": "execute_result"
    }
   ],
   "source": [
    "df.describe()"
   ]
  },
  {
   "cell_type": "code",
   "execution_count": 54,
   "metadata": {},
   "outputs": [
    {
     "data": {
      "image/png": "[encoded data removed]",
      "text/plain": [
       "<Figure size 720x1080 with 12 Axes>"
      ]
     },
     "metadata": {
      "needs_background": "light"
     },
     "output_type": "display_data"
    }
   ],
   "source": [
    "df.hist(bins=30, figsize=(10,15));\n",
    "plt.tight_layout()\n",
    "plt.show()"
   ]
  },
  {
   "cell_type": "code",
   "execution_count": 14,
   "metadata": {},
   "outputs": [
    {
     "data": {
      "text/html": [
       "<div>\n",
       "<style scoped>\n",
       "    .dataframe tbody tr th:only-of-type {\n",
       "        vertical-align: middle;\n",
       "    }\n",
       "\n",
       "    .dataframe tbody tr th {\n",
       "        vertical-align: top;\n",
       "    }\n",
       "\n",
       "    .dataframe thead th {\n",
       "        text-align: right;\n",
       "    }\n",
       "</style>\n",
       "<table border=\"1\" class=\"dataframe\">\n",
       "  <thead>\n",
       "    <tr style=\"text-align: right;\">\n",
       "      <th></th>\n",
       "      <th>S1</th>\n",
       "      <th>C1</th>\n",
       "      <th>S2</th>\n",
       "      <th>C2</th>\n",
       "      <th>S3</th>\n",
       "      <th>C3</th>\n",
       "      <th>S4</th>\n",
       "      <th>C4</th>\n",
       "      <th>S5</th>\n",
       "      <th>C5</th>\n",
       "      <th>Hand</th>\n",
       "    </tr>\n",
       "  </thead>\n",
       "  <tbody>\n",
       "    <tr>\n",
       "      <th>0</th>\n",
       "      <td>4</td>\n",
       "      <td>1</td>\n",
       "      <td>1</td>\n",
       "      <td>13</td>\n",
       "      <td>4</td>\n",
       "      <td>10</td>\n",
       "      <td>3</td>\n",
       "      <td>3</td>\n",
       "      <td>3</td>\n",
       "      <td>8</td>\n",
       "      <td>0</td>\n",
       "    </tr>\n",
       "  </tbody>\n",
       "</table>\n",
       "</div>"
      ],
      "text/plain": [
       "   S1  C1  S2  C2  S3  C3  S4  C4  S5  C5  Hand\n",
       "0   4   1   1  13   4  10   3   3   3   8     0"
      ]
     },
     "execution_count": 14,
     "metadata": {},
     "output_type": "execute_result"
    }
   ],
   "source": [
    "df.mode()"
   ]
  },
  {
   "cell_type": "code",
   "execution_count": 35,
   "metadata": {},
   "outputs": [
    {
     "name": "stdout",
     "output_type": "stream",
     "text": [
      "0    12493\n",
      "1    10599\n",
      "2     1206\n",
      "3      513\n",
      "4       93\n",
      "5       54\n",
      "6       36\n",
      "7        6\n",
      "8        5\n",
      "9        4\n",
      "Name: Hand, dtype: int64\n"
     ]
    },
    {
     "data": {
      "image/png": "[encoded data removed]",
      "text/plain": [
       "<Figure size 720x432 with 1 Axes>"
      ]
     },
     "metadata": {
      "needs_background": "light"
     },
     "output_type": "display_data"
    }
   ],
   "source": [
    "print(df[\"Hand\"].value_counts())\n",
    "df[\"Hand\"].value_counts().plot(kind=\"bar\", figsize=(10, 6));\n",
    "\n",
    "plt.title(\"Hand Value Count\")\n",
    "plt.xlabel(\"value\")\n",
    "plt.ylabel(\"total\");"
   ]
  },
  {
   "cell_type": "markdown",
   "metadata": {},
   "source": [
    "The findings:\n",
    "* We can see that the values are realtively even spread, with the means of the first 10 columns sitting around what we expect (2.5 for suit and 7 for number). \n",
    "* We have a count of 25009, and there are no missing values in that count\n",
    "* A hand of 0 – nothing in hand – is by far the most common hand. Where if the model just predicted 0 every time, it'd get around a 50% accuracy score (12493/25009 empty hands).\n"
   ]
  },
  {
   "cell_type": "code",
   "execution_count": 36,
   "metadata": {},
   "outputs": [
    {
     "data": {
      "text/html": [
       "<div>\n",
       "<style scoped>\n",
       "    .dataframe tbody tr th:only-of-type {\n",
       "        vertical-align: middle;\n",
       "    }\n",
       "\n",
       "    .dataframe tbody tr th {\n",
       "        vertical-align: top;\n",
       "    }\n",
       "\n",
       "    .dataframe thead th {\n",
       "        text-align: right;\n",
       "    }\n",
       "</style>\n",
       "<table border=\"1\" class=\"dataframe\">\n",
       "  <thead>\n",
       "    <tr style=\"text-align: right;\">\n",
       "      <th></th>\n",
       "      <th>S1</th>\n",
       "      <th>C1</th>\n",
       "      <th>S2</th>\n",
       "      <th>C2</th>\n",
       "      <th>S3</th>\n",
       "      <th>C3</th>\n",
       "      <th>S4</th>\n",
       "      <th>C4</th>\n",
       "      <th>S5</th>\n",
       "      <th>C5</th>\n",
       "      <th>Hand</th>\n",
       "    </tr>\n",
       "  </thead>\n",
       "  <tbody>\n",
       "    <tr>\n",
       "      <th>S1</th>\n",
       "      <td>1.000000</td>\n",
       "      <td>-0.010277</td>\n",
       "      <td>-0.021337</td>\n",
       "      <td>0.008295</td>\n",
       "      <td>-0.019692</td>\n",
       "      <td>-0.009861</td>\n",
       "      <td>-0.017374</td>\n",
       "      <td>0.003897</td>\n",
       "      <td>-0.024241</td>\n",
       "      <td>0.006540</td>\n",
       "      <td>0.008838</td>\n",
       "    </tr>\n",
       "    <tr>\n",
       "      <th>C1</th>\n",
       "      <td>-0.010277</td>\n",
       "      <td>1.000000</td>\n",
       "      <td>0.004503</td>\n",
       "      <td>-0.011027</td>\n",
       "      <td>-0.000339</td>\n",
       "      <td>-0.026338</td>\n",
       "      <td>0.004104</td>\n",
       "      <td>-0.014483</td>\n",
       "      <td>0.004896</td>\n",
       "      <td>-0.016917</td>\n",
       "      <td>0.001976</td>\n",
       "    </tr>\n",
       "    <tr>\n",
       "      <th>S2</th>\n",
       "      <td>-0.021337</td>\n",
       "      <td>0.004503</td>\n",
       "      <td>1.000000</td>\n",
       "      <td>-0.002382</td>\n",
       "      <td>-0.029380</td>\n",
       "      <td>-0.005219</td>\n",
       "      <td>-0.021033</td>\n",
       "      <td>0.012099</td>\n",
       "      <td>-0.011914</td>\n",
       "      <td>0.005697</td>\n",
       "      <td>-0.000569</td>\n",
       "    </tr>\n",
       "    <tr>\n",
       "      <th>C2</th>\n",
       "      <td>0.008295</td>\n",
       "      <td>-0.011027</td>\n",
       "      <td>-0.002382</td>\n",
       "      <td>1.000000</td>\n",
       "      <td>-0.005294</td>\n",
       "      <td>-0.024771</td>\n",
       "      <td>-0.008333</td>\n",
       "      <td>-0.012991</td>\n",
       "      <td>0.000697</td>\n",
       "      <td>-0.016317</td>\n",
       "      <td>-0.005653</td>\n",
       "    </tr>\n",
       "    <tr>\n",
       "      <th>S3</th>\n",
       "      <td>-0.019692</td>\n",
       "      <td>-0.000339</td>\n",
       "      <td>-0.029380</td>\n",
       "      <td>-0.005294</td>\n",
       "      <td>1.000000</td>\n",
       "      <td>0.018030</td>\n",
       "      <td>-0.013071</td>\n",
       "      <td>0.001947</td>\n",
       "      <td>-0.030380</td>\n",
       "      <td>-0.002107</td>\n",
       "      <td>0.004533</td>\n",
       "    </tr>\n",
       "    <tr>\n",
       "      <th>C3</th>\n",
       "      <td>-0.009861</td>\n",
       "      <td>-0.026338</td>\n",
       "      <td>-0.005219</td>\n",
       "      <td>-0.024771</td>\n",
       "      <td>0.018030</td>\n",
       "      <td>1.000000</td>\n",
       "      <td>-0.003106</td>\n",
       "      <td>-0.016411</td>\n",
       "      <td>0.003817</td>\n",
       "      <td>-0.010842</td>\n",
       "      <td>-0.006951</td>\n",
       "    </tr>\n",
       "    <tr>\n",
       "      <th>S4</th>\n",
       "      <td>-0.017374</td>\n",
       "      <td>0.004104</td>\n",
       "      <td>-0.021033</td>\n",
       "      <td>-0.008333</td>\n",
       "      <td>-0.013071</td>\n",
       "      <td>-0.003106</td>\n",
       "      <td>1.000000</td>\n",
       "      <td>-0.008623</td>\n",
       "      <td>-0.018273</td>\n",
       "      <td>0.005260</td>\n",
       "      <td>-0.000984</td>\n",
       "    </tr>\n",
       "    <tr>\n",
       "      <th>C4</th>\n",
       "      <td>0.003897</td>\n",
       "      <td>-0.014483</td>\n",
       "      <td>0.012099</td>\n",
       "      <td>-0.012991</td>\n",
       "      <td>0.001947</td>\n",
       "      <td>-0.016411</td>\n",
       "      <td>-0.008623</td>\n",
       "      <td>1.000000</td>\n",
       "      <td>0.002883</td>\n",
       "      <td>-0.014596</td>\n",
       "      <td>0.009612</td>\n",
       "    </tr>\n",
       "    <tr>\n",
       "      <th>S5</th>\n",
       "      <td>-0.024241</td>\n",
       "      <td>0.004896</td>\n",
       "      <td>-0.011914</td>\n",
       "      <td>0.000697</td>\n",
       "      <td>-0.030380</td>\n",
       "      <td>0.003817</td>\n",
       "      <td>-0.018273</td>\n",
       "      <td>0.002883</td>\n",
       "      <td>1.000000</td>\n",
       "      <td>-0.003243</td>\n",
       "      <td>-0.005059</td>\n",
       "    </tr>\n",
       "    <tr>\n",
       "      <th>C5</th>\n",
       "      <td>0.006540</td>\n",
       "      <td>-0.016917</td>\n",
       "      <td>0.005697</td>\n",
       "      <td>-0.016317</td>\n",
       "      <td>-0.002107</td>\n",
       "      <td>-0.010842</td>\n",
       "      <td>0.005260</td>\n",
       "      <td>-0.014596</td>\n",
       "      <td>-0.003243</td>\n",
       "      <td>1.000000</td>\n",
       "      <td>-0.001741</td>\n",
       "    </tr>\n",
       "    <tr>\n",
       "      <th>Hand</th>\n",
       "      <td>0.008838</td>\n",
       "      <td>0.001976</td>\n",
       "      <td>-0.000569</td>\n",
       "      <td>-0.005653</td>\n",
       "      <td>0.004533</td>\n",
       "      <td>-0.006951</td>\n",
       "      <td>-0.000984</td>\n",
       "      <td>0.009612</td>\n",
       "      <td>-0.005059</td>\n",
       "      <td>-0.001741</td>\n",
       "      <td>1.000000</td>\n",
       "    </tr>\n",
       "  </tbody>\n",
       "</table>\n",
       "</div>"
      ],
      "text/plain": [
       "            S1        C1        S2        C2        S3        C3        S4  \\\n",
       "S1    1.000000 -0.010277 -0.021337  0.008295 -0.019692 -0.009861 -0.017374   \n",
       "C1   -0.010277  1.000000  0.004503 -0.011027 -0.000339 -0.026338  0.004104   \n",
       "S2   -0.021337  0.004503  1.000000 -0.002382 -0.029380 -0.005219 -0.021033   \n",
       "C2    0.008295 -0.011027 -0.002382  1.000000 -0.005294 -0.024771 -0.008333   \n",
       "S3   -0.019692 -0.000339 -0.029380 -0.005294  1.000000  0.018030 -0.013071   \n",
       "C3   -0.009861 -0.026338 -0.005219 -0.024771  0.018030  1.000000 -0.003106   \n",
       "S4   -0.017374  0.004104 -0.021033 -0.008333 -0.013071 -0.003106  1.000000   \n",
       "C4    0.003897 -0.014483  0.012099 -0.012991  0.001947 -0.016411 -0.008623   \n",
       "S5   -0.024241  0.004896 -0.011914  0.000697 -0.030380  0.003817 -0.018273   \n",
       "C5    0.006540 -0.016917  0.005697 -0.016317 -0.002107 -0.010842  0.005260   \n",
       "Hand  0.008838  0.001976 -0.000569 -0.005653  0.004533 -0.006951 -0.000984   \n",
       "\n",
       "            C4        S5        C5      Hand  \n",
       "S1    0.003897 -0.024241  0.006540  0.008838  \n",
       "C1   -0.014483  0.004896 -0.016917  0.001976  \n",
       "S2    0.012099 -0.011914  0.005697 -0.000569  \n",
       "C2   -0.012991  0.000697 -0.016317 -0.005653  \n",
       "S3    0.001947 -0.030380 -0.002107  0.004533  \n",
       "C3   -0.016411  0.003817 -0.010842 -0.006951  \n",
       "S4   -0.008623 -0.018273  0.005260 -0.000984  \n",
       "C4    1.000000  0.002883 -0.014596  0.009612  \n",
       "S5    0.002883  1.000000 -0.003243 -0.005059  \n",
       "C5   -0.014596 -0.003243  1.000000 -0.001741  \n",
       "Hand  0.009612 -0.005059 -0.001741  1.000000  "
      ]
     },
     "execution_count": 36,
     "metadata": {},
     "output_type": "execute_result"
    }
   ],
   "source": [
    "df.corr()"
   ]
  },
  {
   "cell_type": "code",
   "execution_count": 37,
   "metadata": {},
   "outputs": [
    {
     "data": {
      "image/png": "[encoded data removed]",
      "text/plain": [
       "<Figure size 288x288 with 1 Axes>"
      ]
     },
     "metadata": {
      "needs_background": "light"
     },
     "output_type": "display_data"
    }
   ],
   "source": [
    "plt.matshow(df.corr())\n",
    "plt.show()"
   ]
  },
  {
   "cell_type": "markdown",
   "metadata": {},
   "source": [
    "As we'd expect, there isn't much of a correlation between the values, as we're dealing with a essentially random dataset."
   ]
  },
  {
   "cell_type": "markdown",
   "metadata": {},
   "source": [
    "## Modelling"
   ]
  },
  {
   "cell_type": "code",
   "execution_count": 112,
   "metadata": {},
   "outputs": [],
   "source": [
    "# Prepare data\n",
    "X = df.drop(\"Hand\", axis=1)\n",
    "y = df[\"Hand\"]\n",
    "\n",
    "# Split data into train and test sets\n",
    "np.random.seed(7)\n",
    "X_train, X_test, y_train, y_test = train_test_split(X.values, y.values, test_size=0.2, random_state=7)"
   ]
  },
  {
   "cell_type": "code",
   "execution_count": 49,
   "metadata": {},
   "outputs": [
    {
     "data": {
      "text/plain": [
       "0.6019592163134746"
      ]
     },
     "execution_count": 49,
     "metadata": {},
     "output_type": "execute_result"
    }
   ],
   "source": [
    "np.random.seed(42)\n",
    "model = RandomForestClassifier().fit(X_train, y_train)\n",
    "model.score(X_test, y_test)"
   ]
  },
  {
   "cell_type": "code",
   "execution_count": 6,
   "metadata": {},
   "outputs": [],
   "source": [
    "from sklearn.svm import SVC\n",
    "\n",
    "## NOTE: these are other poptential classifier models that could've been used\n",
    "# from sklearn.neural_network import MLPClassifier\n",
    "# from sklearn.gaussian_process import GaussianProcessClassifier\n",
    "# from sklearn.gaussian_process.kernels import RBF\n",
    "# from sklearn.tree import DecisionTreeClassifier\n",
    "# from sklearn.ensemble import RandomForestClassifier, AdaBoostClassifier\n",
    "# from sklearn.naive_bayes import GaussianNB\n",
    "# from sklearn.discriminant_analysis import QuadraticDiscriminantAnalysis\n",
    "\n",
    "# Put models in a dictionary\n",
    "models = {\"Logistic Regression\": LogisticRegression(),\n",
    "          \"KNN\": KNeighborsClassifier(),\n",
    "          \"Random Forest\": RandomForestClassifier(),\n",
    "          \"Linear-SVC\": SVC(kernel=\"linear\", C=0.025),\n",
    "#           \"SVC\": SVC(gamma=2, C=1),\n",
    "#           \"Gaussian Process Classifier\": GaussianProcessClassifier(1.0 * RBF(1.0), verbose=2),\n",
    "#           \"DecisionTreeClassifier\": DecisionTreeClassifier(max_depth=5, verbose=2),\n",
    "         }\n",
    "\n",
    "# Create a function that both fits and scores our models\n",
    "def fit_and_score(models, X_train, X_test, y_train, y_test):\n",
    "    \"\"\"\n",
    "    Fits and scores ML models.\n",
    "    models: a dict of Sklearn models\n",
    "    X_train: training data\n",
    "    X_test: test data\n",
    "    y_train: labels for training data\n",
    "    y_test: labels for test data\n",
    "    \"\"\"\n",
    "    \n",
    "    np.random.seed(7)\n",
    "    # Set up empty dict for our model scores\n",
    "    model_scores = {}\n",
    "    fitted_models = []\n",
    "    \n",
    "    for name, model in models.items():\n",
    "        model.fit(X_train, y_train)\n",
    "        model_scores[name] = model.score(X_test, y_test)\n",
    "        fitted_models.append(model)\n",
    "        \n",
    "    return [model_scores, fitted_models]"
   ]
  },
  {
   "cell_type": "code",
   "execution_count": 7,
   "metadata": {},
   "outputs": [
    {
     "name": "stderr",
     "output_type": "stream",
     "text": [
      "/Users/jacob/Documents/Post-Bootcamp/ml-projects/env/lib/python3.8/site-packages/sklearn/linear_model/_logistic.py:762: ConvergenceWarning: lbfgs failed to converge (status=1):\n",
      "STOP: TOTAL NO. of ITERATIONS REACHED LIMIT.\n",
      "\n",
      "Increase the number of iterations (max_iter) or scale the data as shown in:\n",
      "    https://scikit-learn.org/stable/modules/preprocessing.html\n",
      "Please also refer to the documentation for alternative solver options:\n",
      "    https://scikit-learn.org/stable/modules/linear_model.html#logistic-regression\n",
      "  n_iter_i = _check_optimize_result(\n"
     ]
    }
   ],
   "source": [
    "model_scores = fit_and_score(models=models,\n",
    "                             X_train=X_train,\n",
    "                             X_test=X_test,\n",
    "                             y_train=y_train,\n",
    "                             y_test=y_test);\n"
   ]
  },
  {
   "cell_type": "code",
   "execution_count": 9,
   "metadata": {},
   "outputs": [
    {
     "data": {
      "text/plain": [
       "{'Logistic Regression': 0.49020391843262695,\n",
       " 'KNN': 0.5515793682526989,\n",
       " 'Random Forest': 0.6095561775289884,\n",
       " 'Linear-SVC': 0.49020391843262695}"
      ]
     },
     "execution_count": 9,
     "metadata": {},
     "output_type": "execute_result"
    }
   ],
   "source": [
    "model_scores[0]"
   ]
  },
  {
   "cell_type": "markdown",
   "metadata": {},
   "source": [
    "Out of the models tested, `RandomForest` seems to be the fastest."
   ]
  },
  {
   "cell_type": "markdown",
   "metadata": {},
   "source": [
    "### HyperParameter tuning using RandomizedSearchCV"
   ]
  },
  {
   "cell_type": "code",
   "execution_count": 11,
   "metadata": {},
   "outputs": [],
   "source": [
    "# RandomForestClassifier hyperparameter grid \n",
    "rf_grid = {\"n_estimators\": np.arange(10, 1000, 50),\n",
    "           \"max_depth\": [None, 3, 5, 10],\n",
    "           \"min_samples_split\": np.arange(2, 20, 2),\n",
    "           \"min_samples_leaf\": np.arange(1, 20, 2)}"
   ]
  },
  {
   "cell_type": "code",
   "execution_count": 12,
   "metadata": {},
   "outputs": [
    {
     "name": "stdout",
     "output_type": "stream",
     "text": [
      "Fitting 5 folds for each of 15 candidates, totalling 75 fits\n"
     ]
    },
    {
     "name": "stderr",
     "output_type": "stream",
     "text": [
      "/Users/jacob/Documents/Post-Bootcamp/ml-projects/env/lib/python3.8/site-packages/sklearn/model_selection/_split.py:670: UserWarning: The least populated class in y has only 3 members, which is less than n_splits=5.\n",
      "  warnings.warn((\"The least populated class in y has only %d\"\n",
      "[Parallel(n_jobs=1)]: Using backend SequentialBackend with 1 concurrent workers.\n",
      "[Parallel(n_jobs=1)]: Done  75 out of  75 | elapsed:  5.9min finished\n"
     ]
    },
    {
     "name": "stdout",
     "output_type": "stream",
     "text": [
      "Our best parameters are:\n"
     ]
    },
    {
     "data": {
      "text/plain": [
       "{'n_estimators': 860,\n",
       " 'min_samples_split': 18,\n",
       " 'min_samples_leaf': 5,\n",
       " 'max_depth': None}"
      ]
     },
     "execution_count": 12,
     "metadata": {},
     "output_type": "execute_result"
    }
   ],
   "source": [
    "np.random.seed(7)\n",
    "rand_forest_rs = RandomizedSearchCV(RandomForestClassifier(),\n",
    "                                    param_distributions=rf_grid,\n",
    "                                    cv=5, \n",
    "                                    n_iter=15,\n",
    "                                    verbose=True)\n",
    "\n",
    "rand_forest_rs.fit(X_train, y_train)\n",
    "\n",
    "print(\"Our best parameters are:\")\n",
    "rand_forest_rs.best_params_"
   ]
  },
  {
   "cell_type": "code",
   "execution_count": 13,
   "metadata": {},
   "outputs": [
    {
     "name": "stdout",
     "output_type": "stream",
     "text": [
      "After hyperparameter tuning our model got a score of 0.6033586565373851\n",
      "The model however scored higher accuracy with the default values.\n"
     ]
    }
   ],
   "source": [
    "print(f\"After hyperparameter tuning our model got a score of {rand_forest_rs.score(X_test, y_test)}\")\n",
    "print(f\"The model however scored higher accuracy with the default values.\")\n",
    "\n",
    "# Since the model with default values scored the highest, thats the one we'll save\n",
    "import pickle\n",
    "clf = RandomForestClassifier().fit(X_train, y_train)\n",
    "pickle.dump(clf, open(\"./models/pokerhand_rf_clf1.pkl\", \"wb\"))"
   ]
  },
  {
   "cell_type": "code",
   "execution_count": 56,
   "metadata": {},
   "outputs": [
    {
     "data": {
      "image/png": "[encoded data removed]",
      "text/plain": [
       "<Figure size 864x576 with 2 Axes>"
      ]
     },
     "metadata": {},
     "output_type": "display_data"
    }
   ],
   "source": [
    "# Evaluating our model beyond accuracy\n",
    "np.random.seed(42)\n",
    "clf = RandomForestClassifier().fit(X_train, y_train)\n",
    "\n",
    "y_preds = clf.predict(X_test)\n",
    "\n",
    "# Create confusion matrix using seaborn\n",
    "sns.set(font_scale=1.5)\n",
    "\n",
    "def plot_conf_mat(y_test, y_preds):\n",
    "    \"\"\"\n",
    "    Plots a confusion matrix using Seaborn's heatmap().\n",
    "    \"\"\"\n",
    "    fig, ax = plt.subplots(figsize=(12, 8))\n",
    "    ax = sns.heatmap(confusion_matrix(y_test, y_preds),\n",
    "                      annot=True, # Annotate the boxes\n",
    "                      cmap='Blues', \n",
    "                      fmt='g'\n",
    "                     )\n",
    "    plt.xlabel(\"true label\")\n",
    "    plt.ylabel(\"predicted label\")\n",
    "    plt.title(\"RF Model Confusion Matrix\")\n",
    "    \n",
    "plot_conf_mat(y_test, y_preds)\n"
   ]
  },
  {
   "cell_type": "code",
   "execution_count": 83,
   "metadata": {},
   "outputs": [
    {
     "name": "stdout",
     "output_type": "stream",
     "text": [
      "[[1989  463    0    0    0    0    0    0]\n",
      " [1140 1021    0    0    0    0    0    0]\n",
      " [  64  199    0    0    0    0    0    0]\n",
      " [  22   74    0    1    0    0    0    0]\n",
      " [   4    9    0    0    0    0    0    0]\n",
      " [  10    0    0    0    0    0    0    0]\n",
      " [   0    5    0    0    0    0    0    0]\n",
      " [   1    0    0    0    0    0    0    0]]\n",
      "\n",
      "The value counts of y_test/y_true is as follows:\n",
      "0    2452\n",
      "1    2161\n",
      "2     263\n",
      "3      97\n",
      "4      13\n",
      "5      10\n",
      "6       5\n",
      "9       1\n",
      "Name: Hand, dtype: int64\n",
      "\n",
      "The value counts of y_pred is as follows:\n",
      "0    3230\n",
      "1    1771\n",
      "3       1\n",
      "dtype: int64\n"
     ]
    }
   ],
   "source": [
    "print('The value counts of y_test/y_true is as follows:')\n",
    "print(y_test.value_counts())\n",
    "print()\n",
    "print('The value counts of y_pred is as follows:')\n",
    "print(pd.DataFrame(y_preds).value_counts())"
   ]
  },
  {
   "cell_type": "markdown",
   "metadata": {},
   "source": [
    "Note that, the poker hand value refers to the following list:\n",
    "\n",
    "    * 0: nothing in hand; not a recognized poker hand\n",
    "    * 1: one pair; one pair of equal ranks within five cards\n",
    "    * 2: two pairs; two pairs of equal ranks within five cards\n",
    "    * 3: three of a kind; three equal ranks within five cards\n",
    "    * 4: straight; five cards, sequentially ranked with no gaps\n",
    "    * 5: flush; five cards with the same suit\n",
    "    * 6: full house; pair + different rank three of a kind\n",
    "    * 7: four of a kind; four equal ranks within five cards\n",
    "    * 8: straight flush; straight + flush\n",
    "    * 9: royal flush; {Ace, King, Queen, Jack, Ten} + flush\n"
   ]
  },
  {
   "cell_type": "code",
   "execution_count": 78,
   "metadata": {},
   "outputs": [
    {
     "name": "stdout",
     "output_type": "stream",
     "text": [
      "              precision    recall  f1-score   support\n",
      "\n",
      "           0       0.62      0.81      0.70      2452\n",
      "           1       0.58      0.47      0.52      2161\n",
      "           2       0.00      0.00      0.00       263\n",
      "           3       1.00      0.01      0.02        97\n",
      "           4       0.00      0.00      0.00        13\n",
      "           5       0.00      0.00      0.00        10\n",
      "           6       0.00      0.00      0.00         5\n",
      "           9       0.00      0.00      0.00         1\n",
      "\n",
      "    accuracy                           0.60      5002\n",
      "   macro avg       0.27      0.16      0.15      5002\n",
      "weighted avg       0.57      0.60      0.57      5002\n",
      "\n"
     ]
    }
   ],
   "source": [
    "print(classification_report(y_test, y_preds))"
   ]
  },
  {
   "cell_type": "markdown",
   "metadata": {},
   "source": [
    "#### Cross-validation Evaluation Metrics"
   ]
  },
  {
   "cell_type": "code",
   "execution_count": 113,
   "metadata": {},
   "outputs": [
    {
     "name": "stderr",
     "output_type": "stream",
     "text": [
      "/Users/jacob/Documents/Post-Bootcamp/ml-projects/env/lib/python3.8/site-packages/sklearn/model_selection/_split.py:670: UserWarning: The least populated class in y has only 4 members, which is less than n_splits=5.\n",
      "  warnings.warn((\"The least populated class in y has only %d\"\n"
     ]
    },
    {
     "name": "stdout",
     "output_type": "stream",
     "text": [
      "The cross-validated evaluation metrics of our model are as follows: \n",
      "  \n",
      "fit_time: 2.0573363304138184\n",
      "score_time: 0.1425342559814453\n",
      "test_accuracy_score: 0.6043422023312249\n",
      "test_prec_weighted: 0.563981902234207\n",
      "test_recall_weighted: 0.6043422023312249\n",
      "test_f1_weighted: 0.5721627050548106\n"
     ]
    }
   ],
   "source": [
    "from sklearn.model_selection import cross_validate\n",
    "from sklearn.metrics import make_scorer\n",
    "\n",
    "clf = RandomForestClassifier()\n",
    "# Find the weighted averages of the below cross_validated evaluation metrics\n",
    "scoring = {'accuracy_score': 'accuracy', \n",
    "           'prec_weighted': make_scorer(precision_score, average=\"weighted\", zero_division=0),\n",
    "           'recall_weighted': make_scorer(recall_score, average=\"weighted\"),\n",
    "           'f1_weighted': make_scorer(f1_score, average=\"weighted\")}\n",
    "\n",
    "scores = cross_validate(clf, X, y, cv=5, scoring=scoring);\n",
    "averages = { k:sum(scores[k]) / len(scores[k]) for k in scores}\n",
    "\n",
    "print(\"The cross-validated evaluation metrics of our model are as follows: \\n  \")\n",
    "print('\\n'.join(f'{metric}: {averages[metric]}' for metric in averages.keys()))"
   ]
  },
  {
   "cell_type": "markdown",
   "metadata": {},
   "source": [
    "#### Findings\n",
    "From the evaluation above we can see that our model:\n",
    "* only predicted three categories, i.e. no hand, one pair, and three of the kind (in one instance).\n",
    "* When the value was 0/no-hand, the value had a high recall score, meaning it predicted most of the true values in this category, and a relatively high precision.\n",
    "    * Note that, a random guess would get around 50 % accuracy in this category. \n",
    "* It predicted around 50% of the values of category 1, indicating thast it had inferred some kind of rules about the pair relationship.\n",
    "* It predcietd practically nothing in the other categories other than one true positive in the 3 of a kind category, suggesting with more data it could perhaps shave a better chance at working out that rule. "
   ]
  },
  {
   "cell_type": "markdown",
   "metadata": {},
   "source": [
    "### Feature Importances and discussion"
   ]
  },
  {
   "cell_type": "code",
   "execution_count": 33,
   "metadata": {},
   "outputs": [
    {
     "data": {
      "text/plain": [
       "array([0.06512813, 0.1329009 , 0.06843345, 0.13098043, 0.06934337,\n",
       "       0.13204192, 0.06586401, 0.13654064, 0.06450998, 0.13425717])"
      ]
     },
     "execution_count": 33,
     "metadata": {},
     "output_type": "execute_result"
    }
   ],
   "source": [
    "clf = pickle.load(open(\"./models/pokerhand_rf_clf1.pkl\", \"rb\"))\n",
    "feature_importances = clf.feature_importances_\n",
    "feature_importances"
   ]
  },
  {
   "cell_type": "code",
   "execution_count": 79,
   "metadata": {},
   "outputs": [
    {
     "name": "stdout",
     "output_type": "stream",
     "text": [
      "{\n",
      "    \"S1\": 0.06639017033027608,\n",
      "    \"C1\": 0.13397662256201476,\n",
      "    \"S2\": 0.06967575835732533,\n",
      "    \"C2\": 0.13442604778890196,\n",
      "    \"S3\": 0.06924358654616534,\n",
      "    \"C3\": 0.1286396239327723,\n",
      "    \"S4\": 0.06520236271545393,\n",
      "    \"C4\": 0.1302873408767769,\n",
      "    \"S5\": 0.06748016628363201,\n",
      "    \"C5\": 0.13467832060668125\n",
      "}\n",
      "suit_average_importance: 0.06665578926838307\n",
      "card_average_importance: 0.13334421073161695\n"
     ]
    }
   ],
   "source": [
    "feature_importance_dict = dict(zip(df.columns, list(clf.feature_importances_)))\n",
    "feature_importance_averages = {\n",
    "    \"suit_average_importance\": np.mean(feature_importances[::2]),\n",
    "    \"card_average_importance\": np.mean(feature_importances[1::2])\n",
    "}\n",
    "\n",
    "print(json.dumps(feature_importance_dict, indent=4))\n",
    "print('\\n'.join(f'{feature}: {feature_importance_averages[feature]}' for feature in feature_importance_averages.keys()))\n"
   ]
  },
  {
   "cell_type": "markdown",
   "metadata": {},
   "source": [
    "It seems that the model is giving more importance to the card number rather than suit (around 2.5x more), most likely because there are far more common hands that rely on them."
   ]
  },
  {
   "cell_type": "markdown",
   "metadata": {},
   "source": [
    "### Final thoughts\n",
    "Our model is getting around 60% accuracy predicting many of the 0 and 1 hands. This is not much better than choosing at random (~50% accuracy). \n",
    "\n",
    "This may be able to improved by:\n",
    "* Getting more data\n",
    "* Restructuing the data, so that the realtionship between suit and card is better established\n",
    "* Minimising the scope of what we're trying to predict / dropping data that seems to be irrelevant (noisy) to the model, for example those hands with less than 1% outcomes\n",
    "* Trying different classifier models."
   ]
  }
 ],
 "metadata": {
  "kernelspec": {
   "display_name": "Python 3",
   "language": "python",
   "name": "python3"
  }
 },
 "nbformat": 4,
 "nbformat_minor": 4
}
