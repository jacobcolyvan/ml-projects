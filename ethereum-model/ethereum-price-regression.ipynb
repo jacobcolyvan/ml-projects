{
 "cells": [
  {
   "cell_type": "markdown",
   "metadata": {},
   "source": [
    "# Ethereum Price Regression model\n",
    "The aim of this notebook is to build a model that can predict the price of the cryptocurreny Ethereum, given past data (4 years of daily price data).\n",
    "> How well can we predict the closing price of one Ether, given its previous closing price data?\n",
    "\n",
    "Note that this nb is not treating the data sequentially.\n",
    "\n",
    "<hr/>\n",
    "\n",
    "Data can be source from Yahoo at this link: https://au.finance.yahoo.com/quote/ETH-AUD/history?period1=1541376000&period2=1604534400&interval=1d&filter=history&frequency=1d&includeAdjustedClose=true, between the periods of 18/11/2016 to 05/11/2020."
   ]
  },
  {
   "cell_type": "markdown",
   "metadata": {},
   "source": [
    "### Setup up env and look at data"
   ]
  },
  {
   "cell_type": "code",
   "execution_count": 1,
   "metadata": {},
   "outputs": [],
   "source": [
    "%matplotlib inline\n",
    "import matplotlib.pyplot as plt\n",
    "import pandas as pd\n",
    "import numpy as np\n",
    "\n",
    "from sklearn.ensemble import RandomForestRegressor\n",
    "from sklearn.model_selection import train_test_split\n",
    "from sklearn.preprocessing import MinMaxScaler"
   ]
  },
  {
   "cell_type": "code",
   "execution_count": 2,
   "metadata": {},
   "outputs": [],
   "source": [
    "# Import preprocessed data (if it exists)\n",
    "df = pd.read_csv(\"data/processed_ETH-AUD\",\n",
    "                    low_memory=False)"
   ]
  },
  {
   "cell_type": "code",
   "execution_count": 3,
   "metadata": {},
   "outputs": [
    {
     "data": {
      "text/html": [
       "<div>\n",
       "<style scoped>\n",
       "    .dataframe tbody tr th:only-of-type {\n",
       "        vertical-align: middle;\n",
       "    }\n",
       "\n",
       "    .dataframe tbody tr th {\n",
       "        vertical-align: top;\n",
       "    }\n",
       "\n",
       "    .dataframe thead th {\n",
       "        text-align: right;\n",
       "    }\n",
       "</style>\n",
       "<table border=\"1\" class=\"dataframe\">\n",
       "  <thead>\n",
       "    <tr style=\"text-align: right;\">\n",
       "      <th></th>\n",
       "      <th>Date</th>\n",
       "      <th>Open</th>\n",
       "      <th>High</th>\n",
       "      <th>Low</th>\n",
       "      <th>Close</th>\n",
       "      <th>Adj Close</th>\n",
       "      <th>Volume</th>\n",
       "    </tr>\n",
       "  </thead>\n",
       "  <tbody>\n",
       "    <tr>\n",
       "      <th>0</th>\n",
       "      <td>2016-11-18</td>\n",
       "      <td>13.501419</td>\n",
       "      <td>13.527241</td>\n",
       "      <td>12.809084</td>\n",
       "      <td>12.901511</td>\n",
       "      <td>12.901511</td>\n",
       "      <td>14725799</td>\n",
       "    </tr>\n",
       "    <tr>\n",
       "      <th>1</th>\n",
       "      <td>2016-11-19</td>\n",
       "      <td>12.910578</td>\n",
       "      <td>13.268645</td>\n",
       "      <td>12.909572</td>\n",
       "      <td>13.155561</td>\n",
       "      <td>13.155561</td>\n",
       "      <td>7061320</td>\n",
       "    </tr>\n",
       "    <tr>\n",
       "      <th>2</th>\n",
       "      <td>2016-11-20</td>\n",
       "      <td>13.153451</td>\n",
       "      <td>13.221361</td>\n",
       "      <td>13.009252</td>\n",
       "      <td>13.079301</td>\n",
       "      <td>13.079301</td>\n",
       "      <td>7063653</td>\n",
       "    </tr>\n",
       "    <tr>\n",
       "      <th>3</th>\n",
       "      <td>2016-11-21</td>\n",
       "      <td>13.080503</td>\n",
       "      <td>13.157393</td>\n",
       "      <td>12.946662</td>\n",
       "      <td>13.046948</td>\n",
       "      <td>13.046948</td>\n",
       "      <td>4967737</td>\n",
       "    </tr>\n",
       "    <tr>\n",
       "      <th>4</th>\n",
       "      <td>2016-11-22</td>\n",
       "      <td>13.053648</td>\n",
       "      <td>13.856814</td>\n",
       "      <td>12.990789</td>\n",
       "      <td>13.371652</td>\n",
       "      <td>13.371652</td>\n",
       "      <td>15232721</td>\n",
       "    </tr>\n",
       "  </tbody>\n",
       "</table>\n",
       "</div>"
      ],
      "text/plain": [
       "         Date       Open       High        Low      Close  Adj Close    Volume\n",
       "0  2016-11-18  13.501419  13.527241  12.809084  12.901511  12.901511  14725799\n",
       "1  2016-11-19  12.910578  13.268645  12.909572  13.155561  13.155561   7061320\n",
       "2  2016-11-20  13.153451  13.221361  13.009252  13.079301  13.079301   7063653\n",
       "3  2016-11-21  13.080503  13.157393  12.946662  13.046948  13.046948   4967737\n",
       "4  2016-11-22  13.053648  13.856814  12.990789  13.371652  13.371652  15232721"
      ]
     },
     "execution_count": 3,
     "metadata": {},
     "output_type": "execute_result"
    }
   ],
   "source": [
    "price_data = pd.read_csv(\"./data/ETH-AUD-2016to2020.csv\",\n",
    "                         low_memory=False)\n",
    "\n",
    "price_data.head()"
   ]
  },
  {
   "cell_type": "code",
   "execution_count": 4,
   "metadata": {},
   "outputs": [
    {
     "data": {
      "text/plain": [
       "Date         0\n",
       "Open         0\n",
       "High         0\n",
       "Low          0\n",
       "Close        0\n",
       "Adj Close    0\n",
       "Volume       0\n",
       "dtype: int64"
      ]
     },
     "execution_count": 4,
     "metadata": {},
     "output_type": "execute_result"
    }
   ],
   "source": [
    "price_data.isna().sum()"
   ]
  },
  {
   "cell_type": "code",
   "execution_count": 5,
   "metadata": {},
   "outputs": [
    {
     "name": "stdout",
     "output_type": "stream",
     "text": [
      "(1462, 7)\n",
      "\n",
      "Date          object\n",
      "Open         float64\n",
      "High         float64\n",
      "Low          float64\n",
      "Close        float64\n",
      "Adj Close    float64\n",
      "Volume         int64\n",
      "dtype: object\n",
      "\n",
      "<class 'pandas.core.frame.DataFrame'>\n",
      "RangeIndex: 1462 entries, 0 to 1461\n",
      "Data columns (total 7 columns):\n",
      " #   Column     Non-Null Count  Dtype  \n",
      "---  ------     --------------  -----  \n",
      " 0   Date       1462 non-null   object \n",
      " 1   Open       1462 non-null   float64\n",
      " 2   High       1462 non-null   float64\n",
      " 3   Low        1462 non-null   float64\n",
      " 4   Close      1462 non-null   float64\n",
      " 5   Adj Close  1462 non-null   float64\n",
      " 6   Volume     1462 non-null   int64  \n",
      "dtypes: float64(5), int64(1), object(1)\n",
      "memory usage: 80.1+ KB\n",
      "None\n"
     ]
    }
   ],
   "source": [
    "print(price_data.shape)\n",
    "print()\n",
    "print(price_data.dtypes)\n",
    "print()\n",
    "print(price_data.info());"
   ]
  },
  {
   "cell_type": "code",
   "execution_count": 6,
   "metadata": {},
   "outputs": [],
   "source": [
    "# Function for precprocessing the data\n",
    "def preprocess_data(df):\n",
    "    \"\"\"\n",
    "    Performs transformations on df and returns transformed df.\n",
    "    \"\"\"\n",
    "    \n",
    "    # Drop Adj Close (duplicate data)\n",
    "    price_data.drop([\"Adj Close\"], axis=1, inplace=True)\n",
    "    \n",
    "    # Transform Date into pd.readable form\n",
    "    price_data[\"Date\"] = pd.to_datetime(price_data[\"Date\"])\n",
    "    df[\"saleYear\"] = df.Date.dt.year\n",
    "    df[\"saleMonth\"] = df.Date.dt.month\n",
    "    df[\"saleDay\"] = df.Date.dt.day\n",
    "    df[\"saleDayOfWeek\"] = df.Date.dt.dayofweek\n",
    "    df[\"saleDayOfYear\"] = df.Date.dt.dayofyear\n",
    "    # Drop Date\n",
    "    df.drop([\"Date\"], axis=1, inplace=True)\n",
    "    \n",
    "    # Scale Volume data between 0 and 1000\n",
    "    min_max_scaler = MinMaxScaler(feature_range=(0, 1000))\n",
    "    price_data[\"Volume\"] = min_max_scaler.fit_transform(pd.DataFrame(price_data[\"Volume\"]))\n",
    "\n",
    "    return df"
   ]
  },
  {
   "cell_type": "code",
   "execution_count": 7,
   "metadata": {
    "scrolled": true
   },
   "outputs": [
    {
     "data": {
      "text/html": [
       "<div>\n",
       "<style scoped>\n",
       "    .dataframe tbody tr th:only-of-type {\n",
       "        vertical-align: middle;\n",
       "    }\n",
       "\n",
       "    .dataframe tbody tr th {\n",
       "        vertical-align: top;\n",
       "    }\n",
       "\n",
       "    .dataframe thead th {\n",
       "        text-align: right;\n",
       "    }\n",
       "</style>\n",
       "<table border=\"1\" class=\"dataframe\">\n",
       "  <thead>\n",
       "    <tr style=\"text-align: right;\">\n",
       "      <th></th>\n",
       "      <th>Open</th>\n",
       "      <th>High</th>\n",
       "      <th>Low</th>\n",
       "      <th>Close</th>\n",
       "      <th>Volume</th>\n",
       "      <th>saleYear</th>\n",
       "      <th>saleMonth</th>\n",
       "      <th>saleDay</th>\n",
       "      <th>saleDayOfWeek</th>\n",
       "      <th>saleDayOfYear</th>\n",
       "    </tr>\n",
       "  </thead>\n",
       "  <tbody>\n",
       "    <tr>\n",
       "      <th>0</th>\n",
       "      <td>13.501419</td>\n",
       "      <td>13.527241</td>\n",
       "      <td>12.809084</td>\n",
       "      <td>12.901511</td>\n",
       "      <td>0.222003</td>\n",
       "      <td>2016</td>\n",
       "      <td>11</td>\n",
       "      <td>18</td>\n",
       "      <td>4</td>\n",
       "      <td>323</td>\n",
       "    </tr>\n",
       "    <tr>\n",
       "      <th>1</th>\n",
       "      <td>12.910578</td>\n",
       "      <td>13.268645</td>\n",
       "      <td>12.909572</td>\n",
       "      <td>13.155561</td>\n",
       "      <td>0.051970</td>\n",
       "      <td>2016</td>\n",
       "      <td>11</td>\n",
       "      <td>19</td>\n",
       "      <td>5</td>\n",
       "      <td>324</td>\n",
       "    </tr>\n",
       "    <tr>\n",
       "      <th>2</th>\n",
       "      <td>13.153451</td>\n",
       "      <td>13.221361</td>\n",
       "      <td>13.009252</td>\n",
       "      <td>13.079301</td>\n",
       "      <td>0.052022</td>\n",
       "      <td>2016</td>\n",
       "      <td>11</td>\n",
       "      <td>20</td>\n",
       "      <td>6</td>\n",
       "      <td>325</td>\n",
       "    </tr>\n",
       "    <tr>\n",
       "      <th>3</th>\n",
       "      <td>13.080503</td>\n",
       "      <td>13.157393</td>\n",
       "      <td>12.946662</td>\n",
       "      <td>13.046948</td>\n",
       "      <td>0.005525</td>\n",
       "      <td>2016</td>\n",
       "      <td>11</td>\n",
       "      <td>21</td>\n",
       "      <td>0</td>\n",
       "      <td>326</td>\n",
       "    </tr>\n",
       "    <tr>\n",
       "      <th>4</th>\n",
       "      <td>13.053648</td>\n",
       "      <td>13.856814</td>\n",
       "      <td>12.990789</td>\n",
       "      <td>13.371652</td>\n",
       "      <td>0.233249</td>\n",
       "      <td>2016</td>\n",
       "      <td>11</td>\n",
       "      <td>22</td>\n",
       "      <td>1</td>\n",
       "      <td>327</td>\n",
       "    </tr>\n",
       "    <tr>\n",
       "      <th>...</th>\n",
       "      <td>...</td>\n",
       "      <td>...</td>\n",
       "      <td>...</td>\n",
       "      <td>...</td>\n",
       "      <td>...</td>\n",
       "      <td>...</td>\n",
       "      <td>...</td>\n",
       "      <td>...</td>\n",
       "      <td>...</td>\n",
       "      <td>...</td>\n",
       "    </tr>\n",
       "    <tr>\n",
       "      <th>1457</th>\n",
       "      <td>652.833923</td>\n",
       "      <td>653.569824</td>\n",
       "      <td>623.068298</td>\n",
       "      <td>632.921814</td>\n",
       "      <td>314.558834</td>\n",
       "      <td>2020</td>\n",
       "      <td>11</td>\n",
       "      <td>14</td>\n",
       "      <td>5</td>\n",
       "      <td>319</td>\n",
       "    </tr>\n",
       "    <tr>\n",
       "      <th>1458</th>\n",
       "      <td>632.921936</td>\n",
       "      <td>634.083069</td>\n",
       "      <td>605.527161</td>\n",
       "      <td>613.828186</td>\n",
       "      <td>313.547229</td>\n",
       "      <td>2020</td>\n",
       "      <td>11</td>\n",
       "      <td>15</td>\n",
       "      <td>6</td>\n",
       "      <td>320</td>\n",
       "    </tr>\n",
       "    <tr>\n",
       "      <th>1459</th>\n",
       "      <td>613.828064</td>\n",
       "      <td>633.913269</td>\n",
       "      <td>611.277710</td>\n",
       "      <td>628.373657</td>\n",
       "      <td>346.664635</td>\n",
       "      <td>2020</td>\n",
       "      <td>11</td>\n",
       "      <td>16</td>\n",
       "      <td>0</td>\n",
       "      <td>321</td>\n",
       "    </tr>\n",
       "    <tr>\n",
       "      <th>1460</th>\n",
       "      <td>634.475647</td>\n",
       "      <td>660.155151</td>\n",
       "      <td>629.372925</td>\n",
       "      <td>658.429077</td>\n",
       "      <td>443.646459</td>\n",
       "      <td>2020</td>\n",
       "      <td>11</td>\n",
       "      <td>17</td>\n",
       "      <td>1</td>\n",
       "      <td>322</td>\n",
       "    </tr>\n",
       "    <tr>\n",
       "      <th>1461</th>\n",
       "      <td>658.410950</td>\n",
       "      <td>674.425110</td>\n",
       "      <td>638.802856</td>\n",
       "      <td>656.795837</td>\n",
       "      <td>543.245286</td>\n",
       "      <td>2020</td>\n",
       "      <td>11</td>\n",
       "      <td>18</td>\n",
       "      <td>2</td>\n",
       "      <td>323</td>\n",
       "    </tr>\n",
       "  </tbody>\n",
       "</table>\n",
       "<p>1462 rows × 10 columns</p>\n",
       "</div>"
      ],
      "text/plain": [
       "            Open        High         Low       Close      Volume  saleYear  \\\n",
       "0      13.501419   13.527241   12.809084   12.901511    0.222003      2016   \n",
       "1      12.910578   13.268645   12.909572   13.155561    0.051970      2016   \n",
       "2      13.153451   13.221361   13.009252   13.079301    0.052022      2016   \n",
       "3      13.080503   13.157393   12.946662   13.046948    0.005525      2016   \n",
       "4      13.053648   13.856814   12.990789   13.371652    0.233249      2016   \n",
       "...          ...         ...         ...         ...         ...       ...   \n",
       "1457  652.833923  653.569824  623.068298  632.921814  314.558834      2020   \n",
       "1458  632.921936  634.083069  605.527161  613.828186  313.547229      2020   \n",
       "1459  613.828064  633.913269  611.277710  628.373657  346.664635      2020   \n",
       "1460  634.475647  660.155151  629.372925  658.429077  443.646459      2020   \n",
       "1461  658.410950  674.425110  638.802856  656.795837  543.245286      2020   \n",
       "\n",
       "      saleMonth  saleDay  saleDayOfWeek  saleDayOfYear  \n",
       "0            11       18              4            323  \n",
       "1            11       19              5            324  \n",
       "2            11       20              6            325  \n",
       "3            11       21              0            326  \n",
       "4            11       22              1            327  \n",
       "...         ...      ...            ...            ...  \n",
       "1457         11       14              5            319  \n",
       "1458         11       15              6            320  \n",
       "1459         11       16              0            321  \n",
       "1460         11       17              1            322  \n",
       "1461         11       18              2            323  \n",
       "\n",
       "[1462 rows x 10 columns]"
      ]
     },
     "execution_count": 7,
     "metadata": {},
     "output_type": "execute_result"
    }
   ],
   "source": [
    "df = preprocess_data(price_data)\n",
    "df"
   ]
  },
  {
   "cell_type": "code",
   "execution_count": 8,
   "metadata": {},
   "outputs": [],
   "source": [
    "# Save/Export processed dataframe\n",
    "df.to_csv(\"data/processed_ETH-AUD\",\n",
    "              index=False)"
   ]
  },
  {
   "cell_type": "code",
   "execution_count": 9,
   "metadata": {},
   "outputs": [],
   "source": [
    "# df_train = df[ df.saleYear == 2020 ]\n",
    "# df_test = df[ df.saleYear != 2020]\n",
    "\n",
    "# # Split data into X & y, and split\n",
    "# X_train, y_train = df_train.drop(\"Close\", axis=1), df_train.Close\n",
    "# X_test, y_test = df_test.drop(\"Close\", axis=1), df_test.Close\n",
    "\n",
    "X = df.drop([\"Close\"], axis=1)\n",
    "y = df[\"Close\"]\n",
    "\n",
    "X_train, X_test, y_train, y_test = train_test_split(\n",
    "    X, y, test_size=0.2, random_state=42, shuffle=False, stratify=None)"
   ]
  },
  {
   "cell_type": "code",
   "execution_count": 11,
   "metadata": {},
   "outputs": [
    {
     "name": "stdout",
     "output_type": "stream",
     "text": [
      "CPU times: user 581 ms, sys: 43.1 ms, total: 625 ms\n",
      "Wall time: 295 ms\n"
     ]
    },
    {
     "data": {
      "text/html": [
       "<div>\n",
       "<style scoped>\n",
       "    .dataframe tbody tr th:only-of-type {\n",
       "        vertical-align: middle;\n",
       "    }\n",
       "\n",
       "    .dataframe tbody tr th {\n",
       "        vertical-align: top;\n",
       "    }\n",
       "\n",
       "    .dataframe thead th {\n",
       "        text-align: right;\n",
       "    }\n",
       "</style>\n",
       "<table border=\"1\" class=\"dataframe\">\n",
       "  <thead>\n",
       "    <tr style=\"text-align: right;\">\n",
       "      <th></th>\n",
       "      <th>Open</th>\n",
       "      <th>High</th>\n",
       "      <th>Low</th>\n",
       "      <th>Volume</th>\n",
       "      <th>saleYear</th>\n",
       "      <th>saleMonth</th>\n",
       "      <th>saleDay</th>\n",
       "      <th>saleDayOfWeek</th>\n",
       "      <th>saleDayOfYear</th>\n",
       "    </tr>\n",
       "  </thead>\n",
       "  <tbody>\n",
       "    <tr>\n",
       "      <th>1169</th>\n",
       "      <td>275.379547</td>\n",
       "      <td>276.973145</td>\n",
       "      <td>263.365417</td>\n",
       "      <td>388.593154</td>\n",
       "      <td>2020</td>\n",
       "      <td>1</td>\n",
       "      <td>31</td>\n",
       "      <td>4</td>\n",
       "      <td>31</td>\n",
       "    </tr>\n",
       "    <tr>\n",
       "      <th>1170</th>\n",
       "      <td>269.067474</td>\n",
       "      <td>274.642273</td>\n",
       "      <td>268.516846</td>\n",
       "      <td>383.326416</td>\n",
       "      <td>2020</td>\n",
       "      <td>2</td>\n",
       "      <td>1</td>\n",
       "      <td>5</td>\n",
       "      <td>32</td>\n",
       "    </tr>\n",
       "    <tr>\n",
       "      <th>1171</th>\n",
       "      <td>274.174622</td>\n",
       "      <td>288.500549</td>\n",
       "      <td>269.215729</td>\n",
       "      <td>465.773763</td>\n",
       "      <td>2020</td>\n",
       "      <td>2</td>\n",
       "      <td>2</td>\n",
       "      <td>6</td>\n",
       "      <td>33</td>\n",
       "    </tr>\n",
       "    <tr>\n",
       "      <th>1172</th>\n",
       "      <td>281.817017</td>\n",
       "      <td>289.108826</td>\n",
       "      <td>281.001892</td>\n",
       "      <td>410.803919</td>\n",
       "      <td>2020</td>\n",
       "      <td>2</td>\n",
       "      <td>3</td>\n",
       "      <td>0</td>\n",
       "      <td>34</td>\n",
       "    </tr>\n",
       "    <tr>\n",
       "      <th>1173</th>\n",
       "      <td>283.765442</td>\n",
       "      <td>283.916748</td>\n",
       "      <td>275.437103</td>\n",
       "      <td>385.966725</td>\n",
       "      <td>2020</td>\n",
       "      <td>2</td>\n",
       "      <td>4</td>\n",
       "      <td>1</td>\n",
       "      <td>35</td>\n",
       "    </tr>\n",
       "  </tbody>\n",
       "</table>\n",
       "</div>"
      ],
      "text/plain": [
       "            Open        High         Low      Volume  saleYear  saleMonth  \\\n",
       "1169  275.379547  276.973145  263.365417  388.593154      2020          1   \n",
       "1170  269.067474  274.642273  268.516846  383.326416      2020          2   \n",
       "1171  274.174622  288.500549  269.215729  465.773763      2020          2   \n",
       "1172  281.817017  289.108826  281.001892  410.803919      2020          2   \n",
       "1173  283.765442  283.916748  275.437103  385.966725      2020          2   \n",
       "\n",
       "      saleDay  saleDayOfWeek  saleDayOfYear  \n",
       "1169       31              4             31  \n",
       "1170        1              5             32  \n",
       "1171        2              6             33  \n",
       "1172        3              0             34  \n",
       "1173        4              1             35  "
      ]
     },
     "execution_count": 11,
     "metadata": {},
     "output_type": "execute_result"
    }
   ],
   "source": [
    "%%time\n",
    "\n",
    "# Change max samples in RandomForestRegressor\n",
    "model = RandomForestRegressor(n_jobs=-1)\n",
    "\n",
    "model.fit(X_train, y_train)\n",
    "\n",
    "y_preds = model.predict(X_test)\n",
    "y_preds[:5]\n",
    "X_test[:5]"
   ]
  },
  {
   "cell_type": "code",
   "execution_count": 12,
   "metadata": {},
   "outputs": [
    {
     "data": {
      "text/plain": [
       "{'Test Accuracy': 0.9937848935964947,\n",
       " 'Training MAE': 3.312364469871664,\n",
       " 'Test MAE': 6.518191567781581,\n",
       " 'Training RMSLE': 0.012573204381519409,\n",
       " 'Test RMSEL': 0.025900760206557273,\n",
       " 'Training R^2': 0.9995229377031819,\n",
       " 'Test R^2': 0.9937848935964947}"
      ]
     },
     "execution_count": 12,
     "metadata": {},
     "output_type": "execute_result"
    }
   ],
   "source": [
    "show_scores(model)"
   ]
  },
  {
   "cell_type": "code",
   "execution_count": 13,
   "metadata": {},
   "outputs": [
    {
     "data": {
      "text/plain": [
       "0.9937848935964947"
      ]
     },
     "execution_count": 13,
     "metadata": {},
     "output_type": "execute_result"
    }
   ],
   "source": [
    "model.score(X_test, y_test)\n",
    "# NOTE: This score is too high"
   ]
  },
  {
   "cell_type": "code",
   "execution_count": 14,
   "metadata": {},
   "outputs": [
    {
     "data": {
      "image/png": "[encoded data removed]",
      "text/plain": [
       "<Figure size 1080x720 with 1 Axes>"
      ]
     },
     "metadata": {
      "needs_background": "light"
     },
     "output_type": "display_data"
    }
   ],
   "source": [
    "fig, ax = plt.subplots(figsize=(15,10)) # (width, height)\n",
    "ax.plot(range(0,293), y_test)\n",
    "ax.plot(range(0,293), y_preds)\n",
    "ax.set(title=\"Model predictions vs. base\", \n",
    "       xlabel=\"day\",\n",
    "       ylabel=\"price ($)\")\n",
    "ax.legend(['y true', 'y preds'])\n",
    "\n",
    "plt.show()"
   ]
  },
  {
   "cell_type": "code",
   "execution_count": 15,
   "metadata": {},
   "outputs": [
    {
     "data": {
      "text/plain": [
       "((293,), (293,))"
      ]
     },
     "execution_count": 15,
     "metadata": {},
     "output_type": "execute_result"
    }
   ],
   "source": [
    "y_preds.shape, y_test.shape"
   ]
  },
  {
   "cell_type": "code",
   "execution_count": 16,
   "metadata": {},
   "outputs": [
    {
     "name": "stdout",
     "output_type": "stream",
     "text": [
      "122.05198338916829\n",
      "121.50021954725287\n",
      "\n",
      "                     0\n",
      "Close                 \n",
      "269.136780  270.694705\n",
      "274.385925  271.647234\n",
      "281.832123  278.054499\n",
      "283.770416  286.764012\n",
      "281.152222  278.129965\n",
      "...                ...\n",
      "632.921814  643.567062\n",
      "613.828186  616.011987\n",
      "628.373657  618.554002\n",
      "658.429077  644.809240\n",
      "656.795837  658.003168\n",
      "\n",
      "[293 rows x 1 columns]\n"
     ]
    }
   ],
   "source": [
    "print(y_test.std())\n",
    "print(y_preds.std())\n",
    "print()\n",
    "\n",
    "y_preds_df = pd.DataFrame(y_preds, y_test)\n",
    "print(y_preds_df)"
   ]
  },
  {
   "cell_type": "code",
   "execution_count": 17,
   "metadata": {},
   "outputs": [],
   "source": [
    "# Helper function for plotting feature importance\n",
    "def plot_features(columns, importances, n=20):\n",
    "    df = (pd.DataFrame({\"features\": columns,\n",
    "                        \"feature_importances\": importances})\n",
    "          .sort_values(\"feature_importances\", ascending=False)\n",
    "          .reset_index(drop=True))\n",
    "    \n",
    "    # Plot the dataframe\n",
    "    fig, ax = plt.subplots(figsize=(15, 12))\n",
    "    ax.barh(df[\"features\"][:n], df[\"feature_importances\"][:20])\n",
    "    ax.set_ylabel(\"Features\")\n",
    "    ax.set_xlabel(\"Feature importance\")\n",
    "    ax.invert_yaxis()"
   ]
  },
  {
   "cell_type": "markdown",
   "metadata": {},
   "source": [
    "## RandomizedSearchCV"
   ]
  },
  {
   "cell_type": "code",
   "execution_count": 18,
   "metadata": {},
   "outputs": [
    {
     "name": "stdout",
     "output_type": "stream",
     "text": [
      "Fitting 5 folds for each of 50 candidates, totalling 250 fits\n"
     ]
    },
    {
     "name": "stderr",
     "output_type": "stream",
     "text": [
      "[Parallel(n_jobs=1)]: Using backend SequentialBackend with 1 concurrent workers.\n"
     ]
    },
    {
     "name": "stdout",
     "output_type": "stream",
     "text": [
      "CPU times: user 13.4 s, sys: 1.41 s, total: 14.9 s\n",
      "Wall time: 24.9 s\n"
     ]
    },
    {
     "name": "stderr",
     "output_type": "stream",
     "text": [
      "[Parallel(n_jobs=1)]: Done 250 out of 250 | elapsed:   24.8s finished\n"
     ]
    },
    {
     "data": {
      "text/plain": [
       "RandomizedSearchCV(cv=5,\n",
       "                   estimator=RandomForestRegressor(n_jobs=-1, random_state=42),\n",
       "                   n_iter=50,\n",
       "                   param_distributions={'max_depth': [None, 3, 5, 10],\n",
       "                                        'max_features': [0.5, 1, 'sqrt',\n",
       "                                                         'auto'],\n",
       "                                        'min_samples_leaf': array([ 1,  3,  5,  7,  9, 11, 13, 15, 17, 19]),\n",
       "                                        'min_samples_split': array([ 2,  4,  6,  8, 10, 12, 14, 16, 18]),\n",
       "                                        'n_estimators': array([10, 20, 30, 40, 50, 60, 70, 80, 90])},\n",
       "                   verbose=True)"
      ]
     },
     "execution_count": 18,
     "metadata": {},
     "output_type": "execute_result"
    }
   ],
   "source": [
    "%%time\n",
    "from sklearn.model_selection import RandomizedSearchCV\n",
    "\n",
    "# Different RandomForestRegressor hyperparameters\n",
    "rf_grid = {\"n_estimators\": np.arange(10, 100, 10),\n",
    "           \"max_depth\": [None, 3, 5, 10],\n",
    "           \"min_samples_split\": np.arange(2, 20, 2),\n",
    "           \"min_samples_leaf\": np.arange(1, 20, 2),\n",
    "           \"max_features\": [0.5, 1, \"sqrt\", \"auto\"]}\n",
    "\n",
    "# Instantiate RandomizedSearchCV model\n",
    "# NOTE: if we had the time we would boost n_iter to try out far more combinations\n",
    "rs_model = RandomizedSearchCV(RandomForestRegressor(n_jobs=-1,\n",
    "                                                   random_state=42),\n",
    "                              param_distributions=rf_grid,\n",
    "                              n_iter=50,\n",
    "                              cv=5,\n",
    "                              verbose=True)\n",
    "\n",
    "# Fit the RandomizedSearchCV model\n",
    "rs_model.fit(X_train, y_train)"
   ]
  },
  {
   "cell_type": "code",
   "execution_count": 19,
   "metadata": {},
   "outputs": [
    {
     "data": {
      "text/plain": [
       "{'n_estimators': 60,\n",
       " 'min_samples_split': 4,\n",
       " 'min_samples_leaf': 7,\n",
       " 'max_features': 'auto',\n",
       " 'max_depth': 10}"
      ]
     },
     "execution_count": 19,
     "metadata": {},
     "output_type": "execute_result"
    }
   ],
   "source": [
    "# Find the best model hyperparameters\n",
    "rs_model.best_params_"
   ]
  },
  {
   "cell_type": "code",
   "execution_count": 20,
   "metadata": {},
   "outputs": [
    {
     "data": {
      "text/plain": [
       "{'Test Accuracy': 0.9939019524312154,\n",
       " 'Training MAE': 6.759372754893651,\n",
       " 'Test MAE': 6.572452114145861,\n",
       " 'Training RMSLE': 0.029463797227911592,\n",
       " 'Test RMSEL': 0.025459436900264976,\n",
       " 'Training R^2': 0.9974775007224029,\n",
       " 'Test R^2': 0.9939019524312154}"
      ]
     },
     "execution_count": 20,
     "metadata": {},
     "output_type": "execute_result"
    }
   ],
   "source": [
    "# Evaluate the RandomizedSearch model\n",
    "show_scores(rs_model)"
   ]
  },
  {
   "cell_type": "code",
   "execution_count": 21,
   "metadata": {},
   "outputs": [
    {
     "name": "stdout",
     "output_type": "stream",
     "text": [
      "CPU times: user 137 ms, sys: 4.29 ms, total: 141 ms\n",
      "Wall time: 159 ms\n"
     ]
    },
    {
     "data": {
      "text/plain": [
       "RandomForestRegressor(min_samples_leaf=4, min_samples_split=5, n_estimators=40,\n",
       "                      n_jobs=1, random_state=42)"
      ]
     },
     "execution_count": 21,
     "metadata": {},
     "output_type": "execute_result"
    }
   ],
   "source": [
    "%%time \n",
    "\n",
    "# Train model with the best params\n",
    "ideal_model = RandomForestRegressor(n_estimators=40,\n",
    "                                    min_samples_leaf=4,\n",
    "                                    min_samples_split=5,\n",
    "                                    max_features='auto',\n",
    "                                    max_depth=None,\n",
    "                                    n_jobs=1,\n",
    "                                    random_state=42)\n",
    "\n",
    "ideal_model.fit(X_train, y_train)"
   ]
  },
  {
   "cell_type": "markdown",
   "metadata": {},
   "source": [
    "## Results analysis"
   ]
  },
  {
   "cell_type": "code",
   "execution_count": 64,
   "metadata": {},
   "outputs": [],
   "source": [
    "# Create evaluation function (the competition uses RMSLE)\n",
    "from sklearn.metrics import mean_squared_log_error, mean_absolute_error, r2_score, mean_squared_error, explained_variance_score,max_error\n",
    "\n",
    "# NOTE: root_mean_squared_log_error is added by me to scikit-learn, ordinarily we would need\n",
    "# to use this function:\n",
    "def rmsle(y_test, y_preds):\n",
    "    \"\"\"\n",
    "    Calculates root mean squared log error between predictions and\n",
    "    true labels.\n",
    "    \"\"\"\n",
    "    return np.sqrt(mean_squared_log_error(y_test, y_preds))\n",
    "\n",
    "# Create function to evaluate model on a few different levels\n",
    "def show_scores(model):\n",
    "    train_preds = model.predict(X_train)\n",
    "    y_pred = model.predict(X_test)\n",
    "    scores = {\"Test MAE\": mean_absolute_error(y_test, y_pred),\n",
    "             \"Test MSE\": mean_squared_error(y_test, y_pred),\n",
    "             \"Test RMSLE\": rmsle(y_test, y_pred),\n",
    "             \"Test R^2\": r2_score(y_test, y_pred),\n",
    "             \"Explained Variance\": explained_variance_score(y_test, y_pred)}\n",
    "    \n",
    "    return scores"
   ]
  },
  {
   "cell_type": "code",
   "execution_count": 65,
   "metadata": {},
   "outputs": [
    {
     "data": {
      "text/plain": [
       "{'Test MAE': 6.584068251058241,\n",
       " 'Test MSE': 88.17358721657524,\n",
       " 'Test RMSLE': 0.024904637571026726,\n",
       " 'Test R^2': 0.9940607227875783,\n",
       " 'Explained Variance': 0.9940612384020988}"
      ]
     },
     "execution_count": 65,
     "metadata": {},
     "output_type": "execute_result"
    }
   ],
   "source": [
    "show_scores(ideal_model)"
   ]
  },
  {
   "cell_type": "code",
   "execution_count": 26,
   "metadata": {},
   "outputs": [
    {
     "data": {
      "image/png": "[encoded data removed]",
      "text/plain": [
       "<Figure size 1080x864 with 1 Axes>"
      ]
     },
     "metadata": {
      "needs_background": "light"
     },
     "output_type": "display_data"
    }
   ],
   "source": [
    "plot_features(X_train.columns, ideal_model.feature_importances_)"
   ]
  },
  {
   "cell_type": "code",
   "execution_count": 54,
   "metadata": {},
   "outputs": [
    {
     "data": {
      "text/plain": [
       "Text(0, 0.5, 'price difference')"
      ]
     },
     "execution_count": 54,
     "metadata": {},
     "output_type": "execute_result"
    },
    {
     "data": {
      "image/png": "[encoded data removed]",
      "text/plain": [
       "<Figure size 1080x720 with 1 Axes>"
      ]
     },
     "metadata": {
      "needs_background": "light"
     },
     "output_type": "display_data"
    }
   ],
   "source": [
    "difference = y_test-y_preds\n",
    "figt = difference.plot(figsize=(15,10));\n",
    "\n",
    "plt.title(\"Difference between preds and true\");\n",
    "plt.xlabel(\"index\")\n",
    "plt.ylabel(\"price difference\")"
   ]
  },
  {
   "cell_type": "code",
   "execution_count": 66,
   "metadata": {},
   "outputs": [
    {
     "ename": "TypeError",
     "evalue": "<lambda>() missing 1 required positional argument: 'index'",
     "output_type": "error",
     "traceback": [
      "\u001b[0;31m---------------------------------------------------------------------------\u001b[0m",
      "\u001b[0;31mTypeError\u001b[0m                                 Traceback (most recent call last)",
      "\u001b[0;32m<ipython-input-66-3525652e7d35>\u001b[0m in \u001b[0;36m<module>\u001b[0;34m\u001b[0m\n\u001b[1;32m      1\u001b[0m \u001b[0;31m# Data exploration\u001b[0m\u001b[0;34m\u001b[0m\u001b[0;34m\u001b[0m\u001b[0;34m\u001b[0m\u001b[0m\n\u001b[0;32m----> 2\u001b[0;31m HigherThanOpen = X_train.apply(lambda row, index: True if row[\"Open\"] < y_train[index] else False, \n\u001b[0m\u001b[1;32m      3\u001b[0m                                            axis=1)\n\u001b[1;32m      4\u001b[0m \u001b[0;34m\u001b[0m\u001b[0m\n\u001b[1;32m      5\u001b[0m \u001b[0;32mdef\u001b[0m \u001b[0mPredHigherThanTrue\u001b[0m\u001b[0;34m(\u001b[0m\u001b[0my_preds\u001b[0m\u001b[0;34m,\u001b[0m \u001b[0my_true\u001b[0m\u001b[0;34m)\u001b[0m\u001b[0;34m:\u001b[0m\u001b[0;34m\u001b[0m\u001b[0;34m\u001b[0m\u001b[0m\n",
      "\u001b[0;32m~/Documents/Post-Bootcamp/ml-projects/env/lib/python3.8/site-packages/pandas/core/frame.py\u001b[0m in \u001b[0;36mapply\u001b[0;34m(self, func, axis, raw, result_type, args, **kwds)\u001b[0m\n\u001b[1;32m   7546\u001b[0m             \u001b[0mkwds\u001b[0m\u001b[0;34m=\u001b[0m\u001b[0mkwds\u001b[0m\u001b[0;34m,\u001b[0m\u001b[0;34m\u001b[0m\u001b[0;34m\u001b[0m\u001b[0m\n\u001b[1;32m   7547\u001b[0m         )\n\u001b[0;32m-> 7548\u001b[0;31m         \u001b[0;32mreturn\u001b[0m \u001b[0mop\u001b[0m\u001b[0;34m.\u001b[0m\u001b[0mget_result\u001b[0m\u001b[0;34m(\u001b[0m\u001b[0;34m)\u001b[0m\u001b[0;34m\u001b[0m\u001b[0;34m\u001b[0m\u001b[0m\n\u001b[0m\u001b[1;32m   7549\u001b[0m \u001b[0;34m\u001b[0m\u001b[0m\n\u001b[1;32m   7550\u001b[0m     \u001b[0;32mdef\u001b[0m \u001b[0mapplymap\u001b[0m\u001b[0;34m(\u001b[0m\u001b[0mself\u001b[0m\u001b[0;34m,\u001b[0m \u001b[0mfunc\u001b[0m\u001b[0;34m)\u001b[0m \u001b[0;34m->\u001b[0m \u001b[0;34m\"DataFrame\"\u001b[0m\u001b[0;34m:\u001b[0m\u001b[0;34m\u001b[0m\u001b[0;34m\u001b[0m\u001b[0m\n",
      "\u001b[0;32m~/Documents/Post-Bootcamp/ml-projects/env/lib/python3.8/site-packages/pandas/core/apply.py\u001b[0m in \u001b[0;36mget_result\u001b[0;34m(self)\u001b[0m\n\u001b[1;32m    178\u001b[0m             \u001b[0;32mreturn\u001b[0m \u001b[0mself\u001b[0m\u001b[0;34m.\u001b[0m\u001b[0mapply_raw\u001b[0m\u001b[0;34m(\u001b[0m\u001b[0;34m)\u001b[0m\u001b[0;34m\u001b[0m\u001b[0;34m\u001b[0m\u001b[0m\n\u001b[1;32m    179\u001b[0m \u001b[0;34m\u001b[0m\u001b[0m\n\u001b[0;32m--> 180\u001b[0;31m         \u001b[0;32mreturn\u001b[0m \u001b[0mself\u001b[0m\u001b[0;34m.\u001b[0m\u001b[0mapply_standard\u001b[0m\u001b[0;34m(\u001b[0m\u001b[0;34m)\u001b[0m\u001b[0;34m\u001b[0m\u001b[0;34m\u001b[0m\u001b[0m\n\u001b[0m\u001b[1;32m    181\u001b[0m \u001b[0;34m\u001b[0m\u001b[0m\n\u001b[1;32m    182\u001b[0m     \u001b[0;32mdef\u001b[0m \u001b[0mapply_empty_result\u001b[0m\u001b[0;34m(\u001b[0m\u001b[0mself\u001b[0m\u001b[0;34m)\u001b[0m\u001b[0;34m:\u001b[0m\u001b[0;34m\u001b[0m\u001b[0;34m\u001b[0m\u001b[0m\n",
      "\u001b[0;32m~/Documents/Post-Bootcamp/ml-projects/env/lib/python3.8/site-packages/pandas/core/apply.py\u001b[0m in \u001b[0;36mapply_standard\u001b[0;34m(self)\u001b[0m\n\u001b[1;32m    269\u001b[0m \u001b[0;34m\u001b[0m\u001b[0m\n\u001b[1;32m    270\u001b[0m     \u001b[0;32mdef\u001b[0m \u001b[0mapply_standard\u001b[0m\u001b[0;34m(\u001b[0m\u001b[0mself\u001b[0m\u001b[0;34m)\u001b[0m\u001b[0;34m:\u001b[0m\u001b[0;34m\u001b[0m\u001b[0;34m\u001b[0m\u001b[0m\n\u001b[0;32m--> 271\u001b[0;31m         \u001b[0mresults\u001b[0m\u001b[0;34m,\u001b[0m \u001b[0mres_index\u001b[0m \u001b[0;34m=\u001b[0m \u001b[0mself\u001b[0m\u001b[0;34m.\u001b[0m\u001b[0mapply_series_generator\u001b[0m\u001b[0;34m(\u001b[0m\u001b[0;34m)\u001b[0m\u001b[0;34m\u001b[0m\u001b[0;34m\u001b[0m\u001b[0m\n\u001b[0m\u001b[1;32m    272\u001b[0m \u001b[0;34m\u001b[0m\u001b[0m\n\u001b[1;32m    273\u001b[0m         \u001b[0;31m# wrap results\u001b[0m\u001b[0;34m\u001b[0m\u001b[0;34m\u001b[0m\u001b[0;34m\u001b[0m\u001b[0m\n",
      "\u001b[0;32m~/Documents/Post-Bootcamp/ml-projects/env/lib/python3.8/site-packages/pandas/core/apply.py\u001b[0m in \u001b[0;36mapply_series_generator\u001b[0;34m(self)\u001b[0m\n\u001b[1;32m    298\u001b[0m                 \u001b[0;32mfor\u001b[0m \u001b[0mi\u001b[0m\u001b[0;34m,\u001b[0m \u001b[0mv\u001b[0m \u001b[0;32min\u001b[0m \u001b[0menumerate\u001b[0m\u001b[0;34m(\u001b[0m\u001b[0mseries_gen\u001b[0m\u001b[0;34m)\u001b[0m\u001b[0;34m:\u001b[0m\u001b[0;34m\u001b[0m\u001b[0;34m\u001b[0m\u001b[0m\n\u001b[1;32m    299\u001b[0m                     \u001b[0;31m# ignore SettingWithCopy here in case the user mutates\u001b[0m\u001b[0;34m\u001b[0m\u001b[0;34m\u001b[0m\u001b[0;34m\u001b[0m\u001b[0m\n\u001b[0;32m--> 300\u001b[0;31m                     \u001b[0mresults\u001b[0m\u001b[0;34m[\u001b[0m\u001b[0mi\u001b[0m\u001b[0;34m]\u001b[0m \u001b[0;34m=\u001b[0m \u001b[0mself\u001b[0m\u001b[0;34m.\u001b[0m\u001b[0mf\u001b[0m\u001b[0;34m(\u001b[0m\u001b[0mv\u001b[0m\u001b[0;34m)\u001b[0m\u001b[0;34m\u001b[0m\u001b[0;34m\u001b[0m\u001b[0m\n\u001b[0m\u001b[1;32m    301\u001b[0m                     \u001b[0;32mif\u001b[0m \u001b[0misinstance\u001b[0m\u001b[0;34m(\u001b[0m\u001b[0mresults\u001b[0m\u001b[0;34m[\u001b[0m\u001b[0mi\u001b[0m\u001b[0;34m]\u001b[0m\u001b[0;34m,\u001b[0m \u001b[0mABCSeries\u001b[0m\u001b[0;34m)\u001b[0m\u001b[0;34m:\u001b[0m\u001b[0;34m\u001b[0m\u001b[0;34m\u001b[0m\u001b[0m\n\u001b[1;32m    302\u001b[0m                         \u001b[0;31m# If we have a view on v, we need to make a copy because\u001b[0m\u001b[0;34m\u001b[0m\u001b[0;34m\u001b[0m\u001b[0;34m\u001b[0m\u001b[0m\n",
      "\u001b[0;31mTypeError\u001b[0m: <lambda>() missing 1 required positional argument: 'index'"
     ]
    }
   ],
   "source": [
    "# Data exploration\n",
    "HigherThanOpen = X_train.apply(lambda row, index: True if row[\"Open\"] < y_train[index] else False, \n",
    "                                           axis=1)\n",
    "\n",
    "def PredHigherThanTrue(y_preds, y_true):\n",
    "    array = []\n",
    "    for i in range(len(y_preds)):\n",
    "        array.append(True) if y_preds[i] > y_true[i] else array.append(False)\n",
    "             \n",
    "\n",
    "\n",
    "print(HigherThanOpen.value_counts())"
   ]
  },
  {
   "cell_type": "markdown",
   "metadata": {},
   "source": [
    "## Results"
   ]
  },
  {
   "cell_type": "markdown",
   "metadata": {},
   "source": [
    "The model seems to predict close price pretty well based on the basic parameters given, with a Mean Average error of around $6.\n",
    "\n",
    "Whats interesting is that the model has put the parameter (daily price) High as the most importance feature. \n",
    "\n",
    "However in its current form, it is not very useful as it requires full day statistics to atcually dervice the price prediction. This could be changed by adding some kidn of future prediction as y_true. The model could also be improved throgh feature engineering of common indicators. "
   ]
  },
  {
   "cell_type": "code",
   "execution_count": null,
   "metadata": {},
   "outputs": [],
   "source": []
  }
 ],
 "metadata": {
  "kernelspec": {
   "display_name": "Python 3",
   "language": "python",
   "name": "python3"
  },
  "language_info": {
   "codemirror_mode": {
    "name": "ipython",
    "version": 3
   },
   "file_extension": ".py",
   "mimetype": "text/x-python",
   "name": "python",
   "nbconvert_exporter": "python",
   "pygments_lexer": "ipython3",
   "version": "3.8.5"
  }
 },
 "nbformat": 4,
 "nbformat_minor": 4
}
